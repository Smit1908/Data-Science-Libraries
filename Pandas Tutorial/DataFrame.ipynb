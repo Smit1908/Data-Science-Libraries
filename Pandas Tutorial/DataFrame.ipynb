{
 "cells": [
  {
   "cell_type": "markdown",
   "id": "970571a3",
   "metadata": {},
   "source": [
    "# DataFrame"
   ]
  },
  {
   "cell_type": "code",
   "execution_count": 1,
   "id": "ff5dc7a5",
   "metadata": {},
   "outputs": [
    {
     "name": "stdout",
     "output_type": "stream",
     "text": [
      "<class 'pandas.core.frame.DataFrame'>\n"
     ]
    }
   ],
   "source": [
    "import pandas as pd\n",
    "\n",
    "l = [1,2,3,4,5,6]\n",
    "\n",
    "var = pd.DataFrame()\n",
    "\n",
    "print(type(var))"
   ]
  },
  {
   "cell_type": "code",
   "execution_count": 8,
   "id": "87d17b51",
   "metadata": {},
   "outputs": [
    {
     "name": "stdout",
     "output_type": "stream",
     "text": [
      "<class 'pandas.core.frame.DataFrame'>\n",
      "   a  s  d  f\n",
      "0  1  1  1  1\n",
      "1  2  2  2  2\n",
      "2  3  3  3  3\n",
      "3  4  4  4  4\n",
      "4  5  5  5  5\n",
      "4\n"
     ]
    }
   ],
   "source": [
    "d = {\"a\":[1,2,3,4,5],\"s\":[1,2,3,4,5],\"d\":[1,2,3,4,5],\"f\":[1,2,3,4,5]}\n",
    "\n",
    "var1 = pd.DataFrame(d)\n",
    "\n",
    "print(type(var1))\n",
    "print(var1)\n",
    "print(var1[\"a\"][3]) # perticular data leva mate"
   ]
  },
  {
   "cell_type": "code",
   "execution_count": 6,
   "id": "21536115",
   "metadata": {},
   "outputs": [
    {
     "name": "stdout",
     "output_type": "stream",
     "text": [
      "<class 'pandas.core.frame.DataFrame'>\n",
      "   a  f\n",
      "a  1  1\n",
      "s  2  2\n",
      "d  3  3\n",
      "f  4  4\n",
      "g  5  5\n"
     ]
    }
   ],
   "source": [
    "c = {\"a\":[1,2,3,4,5],\"s\":[1,2,3,4,5],\"d\":[1,2,3,4,5],\"f\":[1,2,3,4,5]}\n",
    "\n",
    "var2 = pd.DataFrame(c,columns=['a','f'],index=[\"a\",\"s\",\"d\",\"f\",\"g\"])\n",
    "\n",
    "print(type(var2))\n",
    "print(var2)\n"
   ]
  },
  {
   "cell_type": "code",
   "execution_count": 9,
   "id": "47e80a57",
   "metadata": {},
   "outputs": [
    {
     "name": "stdout",
     "output_type": "stream",
     "text": [
      "<class 'pandas.core.frame.DataFrame'>\n",
      "    0   1   2   3   4\n",
      "0   1   2   3   4   5\n",
      "1  11  12  13  14  15\n"
     ]
    }
   ],
   "source": [
    "list_1 = [[1,2,3,4,5],[11,12,13,14,15]]\n",
    "\n",
    "var3 = pd.DataFrame(list_1)\n",
    "\n",
    "print(type(var3))\n",
    "print(var3)"
   ]
  },
  {
   "cell_type": "code",
   "execution_count": 12,
   "id": "e3be3c64",
   "metadata": {},
   "outputs": [
    {
     "name": "stdout",
     "output_type": "stream",
     "text": [
      "<class 'pandas.core.frame.DataFrame'>\n",
      "   s  r\n",
      "0  1  1\n",
      "1  2  2\n",
      "2  3  3\n",
      "3  4  4\n"
     ]
    }
   ],
   "source": [
    "sr = {\"s\":pd.Series([1,2,3,4]),\"r\":pd.Series([1,2,3,4])}\n",
    "\n",
    "var4 = pd.DataFrame(sr)\n",
    "\n",
    "print(type(var4))\n",
    "print(var4)"
   ]
  },
  {
   "cell_type": "code",
   "execution_count": null,
   "id": "5d8e2b4c",
   "metadata": {},
   "outputs": [],
   "source": []
  }
 ],
 "metadata": {
  "kernelspec": {
   "display_name": "Python 3 (ipykernel)",
   "language": "python",
   "name": "python3"
  },
  "language_info": {
   "codemirror_mode": {
    "name": "ipython",
    "version": 3
   },
   "file_extension": ".py",
   "mimetype": "text/x-python",
   "name": "python",
   "nbconvert_exporter": "python",
   "pygments_lexer": "ipython3",
   "version": "3.9.13"
  }
 },
 "nbformat": 4,
 "nbformat_minor": 5
}
