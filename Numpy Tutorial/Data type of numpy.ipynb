{
 "cells": [
  {
   "cell_type": "markdown",
   "id": "39d2ff83",
   "metadata": {},
   "source": [
    "# Data Type"
   ]
  },
  {
   "cell_type": "code",
   "execution_count": 2,
   "id": "17de5dd7",
   "metadata": {},
   "outputs": [
    {
     "name": "stdout",
     "output_type": "stream",
     "text": [
      "Data Type :  int32\n"
     ]
    }
   ],
   "source": [
    "import numpy as np\n",
    "\n",
    "var = np.array([1,2,3,4])\\\n",
    "\n",
    "print(\"Data Type : \",var.dtype)"
   ]
  },
  {
   "cell_type": "code",
   "execution_count": 3,
   "id": "79b6b30f",
   "metadata": {},
   "outputs": [
    {
     "name": "stdout",
     "output_type": "stream",
     "text": [
      "Data Type :  float64\n"
     ]
    }
   ],
   "source": [
    "var = np.array([1.0,1.2,1.3])\n",
    "\n",
    "print(\"Data Type : \",var.dtype)"
   ]
  },
  {
   "cell_type": "code",
   "execution_count": 5,
   "id": "4ea3b622",
   "metadata": {},
   "outputs": [
    {
     "name": "stdout",
     "output_type": "stream",
     "text": [
      "data type : <U1\n"
     ]
    }
   ],
   "source": [
    "var = np.array([\"a\",\"s\",\"d\",\"f\"])\n",
    "\n",
    "print(\"data type :\", var.dtype)"
   ]
  },
  {
   "cell_type": "code",
   "execution_count": 6,
   "id": "ee8499f2",
   "metadata": {},
   "outputs": [
    {
     "name": "stdout",
     "output_type": "stream",
     "text": [
      "data type :  <U11\n"
     ]
    }
   ],
   "source": [
    "var = np.array([\"a\",\"s\",\"d\",\"f\",1,2,3,4])\n",
    "\n",
    "print(\"data type : \",var.dtype)"
   ]
  },
  {
   "cell_type": "code",
   "execution_count": 9,
   "id": "fa334262",
   "metadata": {},
   "outputs": [
    {
     "name": "stdout",
     "output_type": "stream",
     "text": [
      "data type : int8\n",
      "[1 2 3 4]\n"
     ]
    }
   ],
   "source": [
    "x = np.array([1,2,3,4],dtype = np.int8)\n",
    "\n",
    "print(\"data type :\", x.dtype)\n",
    "print(x)"
   ]
  },
  {
   "cell_type": "code",
   "execution_count": 11,
   "id": "827addbd",
   "metadata": {},
   "outputs": [
    {
     "name": "stdout",
     "output_type": "stream",
     "text": [
      "data type :  float32\n",
      "[1. 2. 3. 4.]\n"
     ]
    }
   ],
   "source": [
    "x1 = np.array([1,2,3,4],dtype = \"f\")\n",
    "\n",
    "print(\"data type : \",x1.dtype)\n",
    "print(x1)"
   ]
  },
  {
   "cell_type": "code",
   "execution_count": 15,
   "id": "be7bbd3c",
   "metadata": {},
   "outputs": [
    {
     "name": "stdout",
     "output_type": "stream",
     "text": [
      "data type :  int32\n",
      "data type :  float32\n",
      "data type :  int32\n",
      "[1 2 3 4]\n",
      "[1. 2. 3. 4.]\n",
      "[1 2 3 4]\n"
     ]
    }
   ],
   "source": [
    "x2 = np.array([1,2,3,4])\n",
    "\n",
    "new = np.float32(x2)\n",
    "\n",
    "new_one = np.int_(new)\n",
    "\n",
    "print(\"data type : \",x2.dtype)\n",
    "print(\"data type : \",new.dtype)\n",
    "print(\"data type : \",new_one.dtype)\n",
    "\n",
    "print(x2)\n",
    "print(new)\n",
    "print(new_one)"
   ]
  },
  {
   "cell_type": "code",
   "execution_count": 17,
   "id": "9fe3edfc",
   "metadata": {},
   "outputs": [
    {
     "name": "stdout",
     "output_type": "stream",
     "text": [
      "[1 2 3 4]\n",
      "[1. 2. 3. 4.]\n"
     ]
    }
   ],
   "source": [
    "x3 = np.array([1,2,3,4])\n",
    "\n",
    "new_1 = x3.astype(float)\n",
    "\n",
    "print(x3)\n",
    "print(new_1)"
   ]
  },
  {
   "cell_type": "code",
   "execution_count": null,
   "id": "e704a52f",
   "metadata": {},
   "outputs": [],
   "source": []
  }
 ],
 "metadata": {
  "kernelspec": {
   "display_name": "Python 3 (ipykernel)",
   "language": "python",
   "name": "python3"
  },
  "language_info": {
   "codemirror_mode": {
    "name": "ipython",
    "version": 3
   },
   "file_extension": ".py",
   "mimetype": "text/x-python",
   "name": "python",
   "nbconvert_exporter": "python",
   "pygments_lexer": "ipython3",
   "version": "3.9.13"
  }
 },
 "nbformat": 4,
 "nbformat_minor": 5
}
