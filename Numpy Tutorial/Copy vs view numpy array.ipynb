{
 "cells": [
  {
   "cell_type": "markdown",
   "id": "f70a79cb",
   "metadata": {},
   "source": [
    "# copy vs view"
   ]
  },
  {
   "cell_type": "code",
   "execution_count": 2,
   "id": "5b32863c",
   "metadata": {},
   "outputs": [
    {
     "name": "stdout",
     "output_type": "stream",
     "text": [
      "var :  [1 2 3 4]\n",
      "copy :  [1 2 3 4]\n"
     ]
    }
   ],
   "source": [
    "import numpy as np\n",
    "\n",
    "var = np.array([1,2,3,4])\n",
    "\n",
    "co = var.copy()\n",
    "\n",
    "print(\"var : \",var)\n",
    "print(\"copy : \",co)"
   ]
  },
  {
   "cell_type": "code",
   "execution_count": 3,
   "id": "c6a18bf9",
   "metadata": {},
   "outputs": [
    {
     "name": "stdout",
     "output_type": "stream",
     "text": [
      "x :  [9 8 7 6 5]\n",
      "view : [9 8 7 6 5]\n"
     ]
    }
   ],
   "source": [
    "x = np.array([9,8,7,6,5])\n",
    "\n",
    "vi = x.view()\n",
    "\n",
    "print(\"x : \",x)\n",
    "print(\"view :\", vi)"
   ]
  },
  {
   "cell_type": "code",
   "execution_count": 4,
   "id": "5e460477",
   "metadata": {},
   "outputs": [
    {
     "name": "stdout",
     "output_type": "stream",
     "text": [
      "var :  [ 1 40  3  4]\n",
      "copy :  [1 2 3 4]\n"
     ]
    }
   ],
   "source": [
    "  \n",
    "var1 = np.array([1,2,3,4])\n",
    "\n",
    "co = var.copy()\n",
    "\n",
    "var1[1] = 40\n",
    "\n",
    "print(\"var : \",var1)\n",
    "print(\"copy : \",co)"
   ]
  },
  {
   "cell_type": "code",
   "execution_count": 6,
   "id": "843ba90c",
   "metadata": {},
   "outputs": [
    {
     "name": "stdout",
     "output_type": "stream",
     "text": [
      "x :  [ 9 40  7  6  5]\n",
      "view : [ 9 40  7  6  5]\n"
     ]
    }
   ],
   "source": [
    "x1 = np.array([9,8,7,6,5])\n",
    "\n",
    "vi = x1.view()\n",
    "\n",
    "x1[1]=40\n",
    "\n",
    "print(\"x : \",x1)\n",
    "print(\"view :\", vi)"
   ]
  },
  {
   "cell_type": "code",
   "execution_count": null,
   "id": "fd87fc84",
   "metadata": {},
   "outputs": [],
   "source": []
  }
 ],
 "metadata": {
  "kernelspec": {
   "display_name": "Python 3 (ipykernel)",
   "language": "python",
   "name": "python3"
  },
  "language_info": {
   "codemirror_mode": {
    "name": "ipython",
    "version": 3
   },
   "file_extension": ".py",
   "mimetype": "text/x-python",
   "name": "python",
   "nbconvert_exporter": "python",
   "pygments_lexer": "ipython3",
   "version": "3.9.13"
  }
 },
 "nbformat": 4,
 "nbformat_minor": 5
}
