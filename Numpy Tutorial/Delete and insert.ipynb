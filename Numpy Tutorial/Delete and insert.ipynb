{
 "cells": [
  {
   "cell_type": "markdown",
   "id": "e4b98256",
   "metadata": {},
   "source": [
    "# Insert"
   ]
  },
  {
   "cell_type": "code",
   "execution_count": 6,
   "id": "adb6c5d7",
   "metadata": {},
   "outputs": [
    {
     "name": "stdout",
     "output_type": "stream",
     "text": [
      "[1 2 3 4]\n",
      "[1 2 6 3 4 6]\n"
     ]
    }
   ],
   "source": [
    "import numpy as np\n",
    "\n",
    "var = np.array([1,2,3,4])\n",
    "\n",
    "print(var)\n",
    "\n",
    "v =np.insert(var , (2,4) , 6.5)\n",
    "\n",
    "print(v)"
   ]
  },
  {
   "cell_type": "code",
   "execution_count": 11,
   "id": "8e011d76",
   "metadata": {},
   "outputs": [
    {
     "name": "stdout",
     "output_type": "stream",
     "text": [
      "[[ 1  2  3]\n",
      " [ 1  2  3]\n",
      " [22 13 34]]\n"
     ]
    }
   ],
   "source": [
    "var1 = np.array([[1,2,3],[1,2,3]])\n",
    "\n",
    "v1 = np.insert(var1, 2,[22,13,34] ,axis = 0)\n",
    "\n",
    "print(v1)"
   ]
  },
  {
   "cell_type": "markdown",
   "id": "0d9fdee3",
   "metadata": {},
   "source": [
    "# Delete"
   ]
  },
  {
   "cell_type": "code",
   "execution_count": 12,
   "id": "3a878719",
   "metadata": {},
   "outputs": [
    {
     "name": "stdout",
     "output_type": "stream",
     "text": [
      "[1 2 3 4]\n",
      "[1 2 4]\n"
     ]
    }
   ],
   "source": [
    "var3 = np.array([1,2,3,4])\n",
    "\n",
    "print(var3)\n",
    "\n",
    "d = np.delete(var3,2)\n",
    "print(d)\n"
   ]
  },
  {
   "cell_type": "code",
   "execution_count": null,
   "id": "97649735",
   "metadata": {},
   "outputs": [],
   "source": []
  }
 ],
 "metadata": {
  "kernelspec": {
   "display_name": "Python 3 (ipykernel)",
   "language": "python",
   "name": "python3"
  },
  "language_info": {
   "codemirror_mode": {
    "name": "ipython",
    "version": 3
   },
   "file_extension": ".py",
   "mimetype": "text/x-python",
   "name": "python",
   "nbconvert_exporter": "python",
   "pygments_lexer": "ipython3",
   "version": "3.9.13"
  }
 },
 "nbformat": 4,
 "nbformat_minor": 5
}
