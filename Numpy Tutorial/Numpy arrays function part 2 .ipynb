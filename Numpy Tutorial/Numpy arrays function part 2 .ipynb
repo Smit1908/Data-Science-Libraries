{
 "cells": [
  {
   "cell_type": "code",
   "execution_count": 2,
   "id": "6317b9db",
   "metadata": {},
   "outputs": [
    {
     "name": "stdout",
     "output_type": "stream",
     "text": [
      "[5 3 1 4 2]\n"
     ]
    }
   ],
   "source": [
    "import numpy as np\n",
    "\n",
    "var = np.array([1,2,3,4,5])\n",
    "\n",
    "np.random.shuffle(var)\n",
    "\n",
    "print(var)"
   ]
  },
  {
   "cell_type": "code",
   "execution_count": 5,
   "id": "5c7507f0",
   "metadata": {},
   "outputs": [
    {
     "name": "stdout",
     "output_type": "stream",
     "text": [
      "(array([1, 2, 3, 4, 5, 6, 7]), array([0, 1, 2, 3, 5, 7, 8], dtype=int64), array([1, 3, 1, 1, 1, 1, 1], dtype=int64))\n"
     ]
    }
   ],
   "source": [
    "var1 = np.array([1,2,3,4,2,5,2,6,7])\n",
    "\n",
    "x = np.unique(var1,return_index = True,return_counts=True)\n",
    "\n",
    "print(x)"
   ]
  },
  {
   "cell_type": "code",
   "execution_count": 6,
   "id": "a34d4e56",
   "metadata": {},
   "outputs": [
    {
     "name": "stdout",
     "output_type": "stream",
     "text": [
      "[[1 2 3]\n",
      " [4 5 6]]\n"
     ]
    }
   ],
   "source": [
    "var2 = np.array([1,2,3,4,5,6])\n",
    "\n",
    "y = np.resize(var2,(2,3))\n",
    "\n",
    "print(y)"
   ]
  },
  {
   "cell_type": "raw",
   "id": "3736c56f",
   "metadata": {},
   "source": [
    "var3 = np.array([1,2,3,4,5,6])\n",
    "\n",
    "y = np.resize(var2,(3,2))\n",
    "\n",
    "print(y.flatten())"
   ]
  },
  {
   "cell_type": "code",
   "execution_count": 9,
   "id": "3670f3e7",
   "metadata": {},
   "outputs": [
    {
     "name": "stdout",
     "output_type": "stream",
     "text": [
      "[[1 2]\n",
      " [3 4]\n",
      " [5 6]]\n",
      "Flattern :  [1 3 5 2 4 6]\n",
      "Ravel : [1 2 3 4 5 6]\n"
     ]
    }
   ],
   "source": [
    " var3 = np.array([1,2,3,4,5,6])\n",
    "\n",
    "y = np.resize(var2,(3,2))\n",
    "print(y)\n",
    "\n",
    "print(\"Flattern : \",y.flatten(order = \"F\"))\n",
    "print(\"Ravel :\",np.ravel(y,order = \"A\"))"
   ]
  },
  {
   "cell_type": "code",
   "execution_count": null,
   "id": "d354e0fa",
   "metadata": {},
   "outputs": [],
   "source": []
  }
 ],
 "metadata": {
  "kernelspec": {
   "display_name": "Python 3 (ipykernel)",
   "language": "python",
   "name": "python3"
  },
  "language_info": {
   "codemirror_mode": {
    "name": "ipython",
    "version": 3
   },
   "file_extension": ".py",
   "mimetype": "text/x-python",
   "name": "python",
   "nbconvert_exporter": "python",
   "pygments_lexer": "ipython3",
   "version": "3.9.13"
  }
 },
 "nbformat": 4,
 "nbformat_minor": 5
}
