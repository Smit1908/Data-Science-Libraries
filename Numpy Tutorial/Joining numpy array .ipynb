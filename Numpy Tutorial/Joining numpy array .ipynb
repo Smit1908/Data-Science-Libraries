{
 "cells": [
  {
   "cell_type": "markdown",
   "id": "de4676e8",
   "metadata": {},
   "source": [
    "# Join array"
   ]
  },
  {
   "cell_type": "code",
   "execution_count": 1,
   "id": "72a2aab1",
   "metadata": {},
   "outputs": [
    {
     "name": "stdout",
     "output_type": "stream",
     "text": [
      "[1 2 3 4 9 8 7 6]\n"
     ]
    }
   ],
   "source": [
    "import numpy as np\n",
    "\n",
    "var = np.array([1,2,3,4])\n",
    "var1 = np.array([9,8,7,6])\n",
    "\n",
    "ar = np.concatenate((var,var1))\n",
    "\n",
    "print(ar)\n",
    "\n",
    "    "
   ]
  },
  {
   "cell_type": "code",
   "execution_count": 3,
   "id": "ec250312",
   "metadata": {},
   "outputs": [
    {
     "name": "stdout",
     "output_type": "stream",
     "text": [
      "[[1 2]\n",
      " [3 4]]\n",
      "\n",
      "[[9 8]\n",
      " [7 6]]\n",
      "\n",
      "[[1 2 9 8]\n",
      " [3 4 7 6]]\n"
     ]
    }
   ],
   "source": [
    "vr = np.array([[1,2],[3,4]])\n",
    "vr1 = np.array([[9,8],[7,6]])\n",
    "\n",
    "ar_new = np.concatenate((vr,vr1),axis=1)\n",
    "\n",
    "print(vr)\n",
    "print()\n",
    "print(vr1)\n",
    "print()\n",
    "print(ar_new)\n"
   ]
  },
  {
   "cell_type": "code",
   "execution_count": 7,
   "id": "865a405a",
   "metadata": {},
   "outputs": [
    {
     "name": "stdout",
     "output_type": "stream",
     "text": [
      "[[1 2]\n",
      " [3 4]]\n",
      "\n",
      "[[9 8]\n",
      " [7 6]]\n",
      "\n",
      "[[1 2]\n",
      " [3 4]\n",
      " [9 8]\n",
      " [7 6]]\n"
     ]
    }
   ],
   "source": [
    "vr2= np.array([[1,2],[3,4]])\n",
    "vr3= np.array([[9,8],[7,6]])\n",
    "\n",
    "ar_new = np.concatenate((vr2,vr3),axis=0)\n",
    "\n",
    "print(vr2)\n",
    "print()\n",
    "print(vr3)\n",
    "print()\n",
    "print(ar_new)"
   ]
  },
  {
   "cell_type": "code",
   "execution_count": 12,
   "id": "027717cc",
   "metadata": {},
   "outputs": [
    {
     "name": "stdout",
     "output_type": "stream",
     "text": [
      "[[1 9]\n",
      " [2 8]\n",
      " [3 7]\n",
      " [4 6]]\n",
      "\n",
      "[1 2 3 4 9 8 7 6]\n",
      "\n",
      "[[1 2 3 4]\n",
      " [9 8 7 6]]\n",
      "\n",
      "[[[1 9]\n",
      "  [2 8]\n",
      "  [3 7]\n",
      "  [4 6]]]\n"
     ]
    }
   ],
   "source": [
    "var1 = np.array([1,2,3,4])\n",
    "var2 = np.array([9,8,7,6])\n",
    "\n",
    "a_new = np.stack((var1,var2),axis = 1)\n",
    "a_new1 = np.hstack((var1,var2)) #raw\n",
    "a_new2= np.vstack((var1,var2)) #colums\n",
    "a_new3= np.dstack((var1,var2)) # hight\n",
    "\n",
    "print(a_new)\n",
    "print()\n",
    "print(a_new1)\n",
    "print()\n",
    "print(a_new2)\n",
    "print()\n",
    "print(a_new3)\n"
   ]
  },
  {
   "cell_type": "code",
   "execution_count": null,
   "id": "8068871d",
   "metadata": {},
   "outputs": [],
   "source": []
  }
 ],
 "metadata": {
  "kernelspec": {
   "display_name": "Python 3 (ipykernel)",
   "language": "python",
   "name": "python3"
  },
  "language_info": {
   "codemirror_mode": {
    "name": "ipython",
    "version": 3
   },
   "file_extension": ".py",
   "mimetype": "text/x-python",
   "name": "python",
   "nbconvert_exporter": "python",
   "pygments_lexer": "ipython3",
   "version": "3.9.13"
  }
 },
 "nbformat": 4,
 "nbformat_minor": 5
}
