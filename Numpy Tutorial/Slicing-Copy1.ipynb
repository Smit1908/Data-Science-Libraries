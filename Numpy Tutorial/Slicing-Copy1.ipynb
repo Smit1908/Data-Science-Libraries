{
 "cells": [
  {
   "cell_type": "markdown",
   "id": "3b8f0fb2",
   "metadata": {},
   "source": [
    "# Slicing"
   ]
  },
  {
   "cell_type": "code",
   "execution_count": 8,
   "id": "c578c3b8",
   "metadata": {},
   "outputs": [
    {
     "name": "stdout",
     "output_type": "stream",
     "text": [
      "[1 2 3 4 5 6 7]\n",
      "\n",
      "2 to 5 : [2 3 4 5]\n",
      " 2 to end :  [2 3 4 5 6 7]\n",
      "start to 5 :  [1 2 3 4 5]\n",
      "stop :  [2 4 6]\n"
     ]
    }
   ],
   "source": [
    "import numpy as np\n",
    "\n",
    "var = np.array([1,2,3,4,5,6,7])\n",
    "\n",
    "print(var)\n",
    "\n",
    "print()\n",
    "\n",
    "print(\"2 to 5 :\",var[1:5])\n",
    "\n",
    "print(\" 2 to end : \",var[1:])\n",
    "\n",
    "print(\"start to 5 : \",var[:5])\n",
    "\n",
    "print(\"stop : \",var[1:6:2])"
   ]
  },
  {
   "cell_type": "code",
   "execution_count": 11,
   "id": "6f721c27",
   "metadata": {},
   "outputs": [
    {
     "name": "stdout",
     "output_type": "stream",
     "text": [
      "[[ 1  2  3  4  5]\n",
      " [ 9  8  7  6  5]\n",
      " [11 12 13 14 15]]\n",
      "8 to 5 :  [12 13 14 15]\n"
     ]
    }
   ],
   "source": [
    "var1 = np.array([[1,2,3,4,5],[9,8,7,6,5],[11,12,13,14,15]])\n",
    "\n",
    "\n",
    "print(var1)\n",
    "print(\"8 to 5 : \",var1[2,1:])"
   ]
  },
  {
   "cell_type": "code",
   "execution_count": null,
   "id": "09cc4df5",
   "metadata": {},
   "outputs": [],
   "source": []
  }
 ],
 "metadata": {
  "kernelspec": {
   "display_name": "Python 3 (ipykernel)",
   "language": "python",
   "name": "python3"
  },
  "language_info": {
   "codemirror_mode": {
    "name": "ipython",
    "version": 3
   },
   "file_extension": ".py",
   "mimetype": "text/x-python",
   "name": "python",
   "nbconvert_exporter": "python",
   "pygments_lexer": "ipython3",
   "version": "3.9.13"
  }
 },
 "nbformat": 4,
 "nbformat_minor": 5
}
