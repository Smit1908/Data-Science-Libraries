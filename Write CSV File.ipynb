{
 "cells": [
  {
   "cell_type": "markdown",
   "id": "2c47f996",
   "metadata": {},
   "source": [
    "# Write CSV File"
   ]
  },
  {
   "cell_type": "code",
   "execution_count": 5,
   "id": "511395ca",
   "metadata": {},
   "outputs": [
    {
     "name": "stdout",
     "output_type": "stream",
     "text": [
      "   a  b  c\n",
      "0  1  1  1\n",
      "1  2  2  2\n",
      "2  3  3  3\n",
      "3  4  4  4\n",
      "4  5  5  5\n",
      "5  6  6  6\n"
     ]
    }
   ],
   "source": [
    "import pandas as pd\n",
    "\n",
    "dis = {\"a\":[1,2,3,4,5,6],\"b\":[1,2,3,4,5,6],\"c\":[1,2,3,4,5,6]}\n",
    "\n",
    "\n",
    "d = pd.DataFrame(dis)\n",
    "\n",
    "print(d)\n",
    "\n",
    "d.to_csv(\"Test_new2.csv\",index=False,header=[1,2,3])"
   ]
  },
  {
   "cell_type": "code",
   "execution_count": null,
   "id": "6324b9a3",
   "metadata": {},
   "outputs": [],
   "source": []
  }
 ],
 "metadata": {
  "kernelspec": {
   "display_name": "Python 3 (ipykernel)",
   "language": "python",
   "name": "python3"
  },
  "language_info": {
   "codemirror_mode": {
    "name": "ipython",
    "version": 3
   },
   "file_extension": ".py",
   "mimetype": "text/x-python",
   "name": "python",
   "nbconvert_exporter": "python",
   "pygments_lexer": "ipython3",
   "version": "3.9.13"
  }
 },
 "nbformat": 4,
 "nbformat_minor": 5
}
